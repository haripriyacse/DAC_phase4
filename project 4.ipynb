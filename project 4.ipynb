{
  "nbformat": 4,
  "nbformat_minor": 0,
  "metadata": {
    "colab": {
      "provenance": []
    },
    "kernelspec": {
      "name": "python3",
      "display_name": "Python 3"
    },
    "language_info": {
      "name": "python"
    }
  },
  "cells": [
    {
      "cell_type": "code",
      "execution_count": 3,
      "metadata": {
        "colab": {
          "base_uri": "https://localhost:8080/"
        },
        "id": "5nn0yzhDTqmG",
        "outputId": "43fa4417-4a6f-4acc-9f66-e2185d18b0eb"
      },
      "outputs": [
        {
          "output_type": "stream",
          "name": "stdout",
          "text": [
            "                Timestamp  Age  Gender         Country state self_employed  \\\n",
            "0     2014-08-27 11:29:31   37  Female   United States    IL           NaN   \n",
            "1     2014-08-27 11:29:37   44       M   United States    IN           NaN   \n",
            "2     2014-08-27 11:29:44   32    Male          Canada   NaN           NaN   \n",
            "3     2014-08-27 11:29:46   31    Male  United Kingdom   NaN           NaN   \n",
            "4     2014-08-27 11:30:22   31    Male   United States    TX           NaN   \n",
            "...                   ...  ...     ...             ...   ...           ...   \n",
            "1254  2015-09-12 11:17:21   26    male  United Kingdom   NaN            No   \n",
            "1255  2015-09-26 01:07:35   32    Male   United States    IL            No   \n",
            "1256  2015-11-07 12:36:58   34    male   United States    CA            No   \n",
            "1257  2015-11-30 21:25:06   46       f   United States    NC            No   \n",
            "1258  2016-02-01 23:04:31   25    Male   United States    IL            No   \n",
            "\n",
            "     family_history treatment work_interfere    no_employees  ...  \\\n",
            "0                No       Yes          Often            6-25  ...   \n",
            "1                No        No         Rarely  More than 1000  ...   \n",
            "2                No        No         Rarely            6-25  ...   \n",
            "3               Yes       Yes          Often          26-100  ...   \n",
            "4                No        No          Never         100-500  ...   \n",
            "...             ...       ...            ...             ...  ...   \n",
            "1254             No       Yes            NaN          26-100  ...   \n",
            "1255            Yes       Yes          Often          26-100  ...   \n",
            "1256            Yes       Yes      Sometimes  More than 1000  ...   \n",
            "1257             No        No            NaN         100-500  ...   \n",
            "1258            Yes       Yes      Sometimes          26-100  ...   \n",
            "\n",
            "                   leave mental_health_consequence phys_health_consequence  \\\n",
            "0          Somewhat easy                        No                      No   \n",
            "1             Don't know                     Maybe                      No   \n",
            "2     Somewhat difficult                        No                      No   \n",
            "3     Somewhat difficult                       Yes                     Yes   \n",
            "4             Don't know                        No                      No   \n",
            "...                  ...                       ...                     ...   \n",
            "1254       Somewhat easy                        No                      No   \n",
            "1255  Somewhat difficult                        No                      No   \n",
            "1256  Somewhat difficult                       Yes                     Yes   \n",
            "1257          Don't know                       Yes                      No   \n",
            "1258          Don't know                     Maybe                      No   \n",
            "\n",
            "         coworkers    supervisor mental_health_interview  \\\n",
            "0     Some of them           Yes                      No   \n",
            "1               No            No                      No   \n",
            "2              Yes           Yes                     Yes   \n",
            "3     Some of them            No                   Maybe   \n",
            "4     Some of them           Yes                     Yes   \n",
            "...            ...           ...                     ...   \n",
            "1254  Some of them  Some of them                      No   \n",
            "1255  Some of them           Yes                      No   \n",
            "1256            No            No                      No   \n",
            "1257            No            No                      No   \n",
            "1258  Some of them            No                      No   \n",
            "\n",
            "     phys_health_interview mental_vs_physical obs_consequence comments  \n",
            "0                    Maybe                Yes              No      NaN  \n",
            "1                       No         Don't know              No      NaN  \n",
            "2                      Yes                 No              No      NaN  \n",
            "3                    Maybe                 No             Yes      NaN  \n",
            "4                      Yes         Don't know              No      NaN  \n",
            "...                    ...                ...             ...      ...  \n",
            "1254                    No         Don't know              No      NaN  \n",
            "1255                    No                Yes              No      NaN  \n",
            "1256                    No                 No              No      NaN  \n",
            "1257                    No                 No              No      NaN  \n",
            "1258                    No         Don't know              No      NaN  \n",
            "\n",
            "[1259 rows x 27 columns]\n"
          ]
        }
      ],
      "source": [
        "import numpy as np\n",
        "import pandas as pd\n",
        "import matplotlib.pyplot as plt\n",
        "public=pd.read_csv(\"project.csv\")\n",
        "print(public)"
      ]
    },
    {
      "cell_type": "code",
      "source": [
        "mean = np.mean(public)\n",
        "print(mean)"
      ],
      "metadata": {
        "colab": {
          "base_uri": "https://localhost:8080/"
        },
        "id": "-p5wYHIzVvt-",
        "outputId": "f0a44490-1bff-49ee-cdc3-1cb4523b8d93"
      },
      "execution_count": 5,
      "outputs": [
        {
          "output_type": "stream",
          "name": "stdout",
          "text": [
            "Age    7.942815e+07\n",
            "dtype: float64\n"
          ]
        },
        {
          "output_type": "stream",
          "name": "stderr",
          "text": [
            "/usr/local/lib/python3.10/dist-packages/numpy/core/fromnumeric.py:3430: FutureWarning: In a future version, DataFrame.mean(axis=None) will return a scalar mean over the entire DataFrame. To retain the old behavior, use 'frame.mean(axis=0)' or just 'frame.mean()'\n",
            "  return mean(axis=axis, dtype=dtype, out=out, **kwargs)\n",
            "/usr/local/lib/python3.10/dist-packages/numpy/core/fromnumeric.py:3430: FutureWarning: The default value of numeric_only in DataFrame.mean is deprecated. In a future version, it will default to False. In addition, specifying 'numeric_only=None' is deprecated. Select only valid columns or specify the value of numeric_only to silence this warning.\n",
            "  return mean(axis=axis, dtype=dtype, out=out, **kwargs)\n"
          ]
        }
      ]
    },
    {
      "cell_type": "code",
      "source": [
        "std = np.std(public)\n",
        "print(std)"
      ],
      "metadata": {
        "colab": {
          "base_uri": "https://localhost:8080/"
        },
        "id": "2UZhD_m4WEky",
        "outputId": "88aa0868-bef6-4527-95ad-109f8f1443ce"
      },
      "execution_count": 6,
      "outputs": [
        {
          "output_type": "stream",
          "name": "stdout",
          "text": [
            "Age    2.817180e+09\n",
            "dtype: float64\n"
          ]
        },
        {
          "output_type": "stream",
          "name": "stderr",
          "text": [
            "/usr/local/lib/python3.10/dist-packages/numpy/core/fromnumeric.py:3571: FutureWarning: The default value of numeric_only in DataFrame.std is deprecated. In a future version, it will default to False. In addition, specifying 'numeric_only=None' is deprecated. Select only valid columns or specify the value of numeric_only to silence this warning.\n",
            "  return std(axis=axis, dtype=dtype, out=out, ddof=ddof, **kwargs)\n"
          ]
        }
      ]
    },
    {
      "cell_type": "code",
      "source": [
        "from matplotlib import pyplot as plt\n",
        "x = mean\n",
        "y = std\n",
        "plt.plot(mean,std)\n",
        "plt.title(\"Line graph\")\n",
        "plt.ylabel('Y axis')\n",
        "plt.xlabel('X axis')\n",
        "plt.show()"
      ],
      "metadata": {
        "colab": {
          "base_uri": "https://localhost:8080/",
          "height": 472
        },
        "id": "oz5am57SWMg9",
        "outputId": "8d184c43-16a8-4eab-aed9-697cc7544489"
      },
      "execution_count": 7,
      "outputs": [
        {
          "output_type": "display_data",
          "data": {
            "text/plain": [
              "<Figure size 640x480 with 1 Axes>"
            ],
            "image/png": "[encoded data removed]"
          },
          "metadata": {}
        }
      ]
    }
  ]
}